{
 "cells": [
  {
   "cell_type": "markdown",
   "metadata": {},
   "source": [
    "Assignment 6.1\n",
    "\n",
    "Write a function so that the columns of the output matrix are powers of the input\n",
    "vector.\n",
    "The order of the powers is determined by the increasing boolean argument. Specifically,\n",
    "when increasing is False, the i-th output column is the input vector raised element-wise\n",
    "to the power of N - i - 1.\n",
    "\n",
    "HINT: Such a matrix with a geometric progression in each row is named for Alexandre-\n",
    "Theophile Vandermonde.\n",
    "\n",
    "Note: Solution submitted via github must contain all the detailed steps."
   ]
  },
  {
   "cell_type": "code",
   "execution_count": 57,
   "metadata": {},
   "outputs": [
    {
     "data": {
      "text/plain": [
       "array([[1, 2],\n",
       "       [2, 3],\n",
       "       [3, 4]])"
      ]
     },
     "execution_count": 57,
     "metadata": {},
     "output_type": "execute_result"
    }
   ],
   "source": [
    "# Notes : column stack is used here to combine columns\n",
    "\n",
    "a = np.array((1,2,3))\n",
    "b = np.array((2,3,4))\n",
    "np.column_stack((a,b))\n"
   ]
  },
  {
   "cell_type": "code",
   "execution_count": 58,
   "metadata": {},
   "outputs": [
    {
     "name": "stdout",
     "output_type": "stream",
     "text": [
      "Vandermonde - default order :\n",
      " [[ 1  1  1]\n",
      " [ 4  2  1]\n",
      " [25  5  1]\n",
      " [36  6  1]]\n",
      "Vandermonde - increasing order :\n",
      " [[ 1  1  1]\n",
      " [ 1  2  4]\n",
      " [ 1  5 25]\n",
      " [ 1  6 36]]\n"
     ]
    }
   ],
   "source": [
    "import numpy as np\n",
    "# Function vander_func :\n",
    "#  1st Param : x is a list\n",
    "#  2nd Param : N is the order of power\n",
    "#  3rd Param : sorting order \n",
    "def vander_func(x,N,increasing=False):\n",
    "    if increasing:\n",
    "        return np.sort(np.column_stack([x**(N-1-i) for i in range(N)]),axis=1)\n",
    "    else:\n",
    "        return np.column_stack([x**(N-1-i) for i in range(N)])\n",
    "   \n",
    "b=vander_func(np.array([1, 2, 5, 6]),3)\n",
    "print(\"Vandermonde - default order :\\n\" , b)\n",
    "\n",
    "a=vander_func(np.array([1, 2, 5, 6]),3,True)\n",
    "print(\"Vandermonde - increasing order :\\n\" , a)"
   ]
  },
  {
   "cell_type": "code",
   "execution_count": 59,
   "metadata": {},
   "outputs": [
    {
     "data": {
      "text/plain": [
       "array([[ 1,  1,  1],\n",
       "       [ 4,  2,  1],\n",
       "       [25,  5,  1],\n",
       "       [36,  6,  1]])"
      ]
     },
     "execution_count": 59,
     "metadata": {},
     "output_type": "execute_result"
    }
   ],
   "source": [
    "x = np.array([1, 2, 5,6])\n",
    "N = 3\n",
    "np.vander(x, N)"
   ]
  },
  {
   "cell_type": "code",
   "execution_count": 60,
   "metadata": {},
   "outputs": [
    {
     "data": {
      "text/plain": [
       "array([[ 1,  1,  1],\n",
       "       [ 1,  2,  4],\n",
       "       [ 1,  5, 25],\n",
       "       [ 1,  6, 36]])"
      ]
     },
     "execution_count": 60,
     "metadata": {},
     "output_type": "execute_result"
    }
   ],
   "source": [
    "np.vander(x, N,increasing=True)"
   ]
  },
  {
   "cell_type": "code",
   "execution_count": null,
   "metadata": {},
   "outputs": [],
   "source": []
  }
 ],
 "metadata": {
  "kernelspec": {
   "display_name": "Python 3",
   "language": "python",
   "name": "python3"
  },
  "language_info": {
   "codemirror_mode": {
    "name": "ipython",
    "version": 3
   },
   "file_extension": ".py",
   "mimetype": "text/x-python",
   "name": "python",
   "nbconvert_exporter": "python",
   "pygments_lexer": "ipython3",
   "version": "3.6.5"
  }
 },
 "nbformat": 4,
 "nbformat_minor": 2
}
